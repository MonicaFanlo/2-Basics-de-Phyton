{
 "cells": [
  {
   "cell_type": "markdown",
   "id": "40443b08",
   "metadata": {},
   "source": [
    "# Tasca M2 T01 #"
   ]
  },
  {
   "cell_type": "markdown",
   "id": "b05fa963",
   "metadata": {},
   "source": [
    "## Exercici 1 ##\n"
   ]
  },
  {
   "cell_type": "code",
   "execution_count": 2,
   "id": "e0c5af59",
   "metadata": {},
   "outputs": [
    {
     "name": "stdout",
     "output_type": "stream",
     "text": [
      "[['gener', 'febrer', 'març'], ['abril', 'maig', 'juny'], ['juliol', 'agost', 'setembre'], ['octubre', 'novembre', 'desembre']]\n"
     ]
    }
   ],
   "source": [
    "T1 = ['gener', 'febrer', 'març']\n",
    "T2 = ['abril', 'maig', 'juny']\n",
    "T3 = ['juliol', 'agost', 'setembre']\n",
    "T4 = ['octubre', 'novembre', 'desembre']\n",
    "\n",
    "year =[]\n",
    "\n",
    "year.append(T1)\n",
    "year.append(T2)\n",
    "year.append(T3)\n",
    "year.append(T4)\n",
    "\n",
    "print(year)"
   ]
  },
  {
   "cell_type": "markdown",
   "id": "017c540f",
   "metadata": {},
   "source": [
    "## Exercici 2 ##\n"
   ]
  },
  {
   "cell_type": "code",
   "execution_count": 3,
   "id": "b5cacdb7",
   "metadata": {},
   "outputs": [
    {
     "name": "stdout",
     "output_type": "stream",
     "text": [
      "febrer\n",
      "['gener', 'febrer', 'març']\n",
      "setembre , octubre\n"
     ]
    }
   ],
   "source": [
    "print(year[0][1])\n",
    "print(year[0])\n",
    "print(year[2][2],',',  year[3][0])"
   ]
  },
  {
   "cell_type": "markdown",
   "id": "d31dc3c0",
   "metadata": {},
   "source": [
    "## Exercici 3 ##"
   ]
  },
  {
   "cell_type": "code",
   "execution_count": 4,
   "id": "e435f08a",
   "metadata": {},
   "outputs": [
    {
     "name": "stdout",
     "output_type": "stream",
     "text": [
      "[16, 13, 22, 10, 15, 18, 0, 0, 8, 6, 0, 2, 8, 13, 6, 13, 17, 3, 7, 17, 23, 15, 19, 8, 23, 22, 10, 3, 9, 11, 3, 16, 1, 16, 6, 8, 5, 13, 17, 10, 24, 2, 24, 23, 16, 19, 23, 18, 3, 11]\n"
     ]
    }
   ],
   "source": [
    "import random\n",
    "lista =[random.randint(0,25) for x in range(50)]\n",
    "llistat=lista.copy()\n",
    "print(llistat)"
   ]
  },
  {
   "cell_type": "code",
   "execution_count": 5,
   "id": "f48d14b6",
   "metadata": {},
   "outputs": [
    {
     "name": "stdout",
     "output_type": "stream",
     "text": [
      "La llista té 50 números\n",
      "El número 3 apareix 4 vegades\n",
      "Els nombres 3 i 4 apareixen 4 vegades\n",
      "El número més gran és el 24\n",
      "Els 3 números més petits són [0, 1, 2]\n",
      "El rang d'aquesta llista és (0, 24)\n"
     ]
    }
   ],
   "source": [
    "print('La llista té', len(llistat) ,'números')\n",
    "print('El número 3 apareix', llistat.count(3), 'vegades')\n",
    "print('Els nombres 3 i 4 apareixen', llistat.count(3)+llistat.count(4), 'vegades')\n",
    "print('El número més gran és el',max(llistat))\n",
    "print('Els 3 números més petits són', sorted(list(set(llistat)))[0:3])\n",
    "rang = (min(llistat),max(llistat))\n",
    "print(\"El rang d'aquesta llista és\", rang)"
   ]
  },
  {
   "cell_type": "markdown",
   "id": "6aaf3242",
   "metadata": {},
   "source": [
    "## Exercici 4 ##"
   ]
  },
  {
   "cell_type": "code",
   "execution_count": 1,
   "id": "b6c2eac9",
   "metadata": {},
   "outputs": [
    {
     "name": "stdout",
     "output_type": "stream",
     "text": [
      "{'Pomes': {'Qty': 5, '€': 0.42}, 'Peres': {'Qty': 3, '€': 0.66}, 'Taronges': {'Qty': 6, '€': 1.25}, 'Maduixes': {'Qty': 8, '€': 6.0}}\n"
     ]
    }
   ],
   "source": [
    "compra ={'Pomes':{'Qty':5,'€':0.42}, 'Peres':{'Qty':3,'€':0.66}}\n",
    "Taronges = {'Taronges':{'Qty':6,'€':1.25}}\n",
    "Maduixes = {'Maduixes':{'Qty':8,'€':6.00}}\n",
    "\n",
    "compra.update(Taronges)\n",
    "compra.update(Maduixes)\n",
    "\n",
    "print(compra)"
   ]
  },
  {
   "cell_type": "code",
   "execution_count": 2,
   "id": "0a71ca45",
   "metadata": {},
   "outputs": [
    {
     "name": "stdout",
     "output_type": "stream",
     "text": [
      "Les Peres han costat en total 1.98 €\n"
     ]
    }
   ],
   "source": [
    "for x,y in compra.items():\n",
    "    if x =='Peres':\n",
    "        Qty = y['Qty']\n",
    "        Euro = y.get('€')\n",
    "        Total = Qty*Euro\n",
    "        print('Les Peres han costat en total',Total, '€')"
   ]
  },
  {
   "cell_type": "code",
   "execution_count": 3,
   "id": "ab936161",
   "metadata": {},
   "outputs": [
    {
     "name": "stdout",
     "output_type": "stream",
     "text": [
      "Hem comprat 4 fruites en total\n"
     ]
    }
   ],
   "source": [
    "print('Hem comprat', len(compra), 'fruites en total')"
   ]
  },
  {
   "cell_type": "code",
   "execution_count": 8,
   "id": "4d343eb9",
   "metadata": {},
   "outputs": [
    {
     "name": "stdout",
     "output_type": "stream",
     "text": [
      "La fruita més cara són les Maduixes\n"
     ]
    }
   ],
   "source": [
    "for key, val in compra.items():\n",
    "    Max = max(val['€'] for val in compra.values())\n",
    "    if val['€'] == Max:\n",
    "        print('La fruita més cara són les '+ str(key))"
   ]
  },
  {
   "cell_type": "code",
   "execution_count": null,
   "id": "de372a5f",
   "metadata": {},
   "outputs": [],
   "source": []
  }
 ],
 "metadata": {
  "kernelspec": {
   "display_name": "Python 3 (ipykernel)",
   "language": "python",
   "name": "python3"
  },
  "language_info": {
   "codemirror_mode": {
    "name": "ipython",
    "version": 3
   },
   "file_extension": ".py",
   "mimetype": "text/x-python",
   "name": "python",
   "nbconvert_exporter": "python",
   "pygments_lexer": "ipython3",
   "version": "3.9.12"
  }
 },
 "nbformat": 4,
 "nbformat_minor": 5
}
